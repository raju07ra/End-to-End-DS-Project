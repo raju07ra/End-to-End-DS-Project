{
 "cells": [
  {
   "cell_type": "code",
   "execution_count": 1,
   "id": "4ba4e4a7-3d01-4ac6-9b50-28377936101f",
   "metadata": {},
   "outputs": [
    {
     "name": "stdout",
     "output_type": "stream",
     "text": [
      "Libraries imported.\n",
      "Raw data loaded successfully.\n",
      "Train data shape: (1017209, 9)\n",
      "Store data shape: (1115, 10)\n"
     ]
    }
   ],
   "source": [
    "import pandas as pd\n",
    "import numpy as np\n",
    "import os\n",
    "\n",
    "print(\"Libraries imported.\")\n",
    "\n",
    "# Data Acquisition\n",
    "TRAIN_PATH = '../data/raw/train.csv'\n",
    "STORE_PATH = '../data/raw/store.csv'\n",
    "\n",
    "try:\n",
    "    train_df = pd.read_csv(TRAIN_PATH, low_memory=False)\n",
    "    store_df = pd.read_csv(STORE_PATH)\n",
    "    print(\"Raw data loaded successfully.\")\n",
    "    print(f\"Train data shape: {train_df.shape}\")\n",
    "    print(f\"Store data shape: {store_df.shape}\")\n",
    "except FileNotFoundError:\n",
    "    print(\"ERROR: Make sure train.csv and store.csv are in the 'data/raw/' directory.\")\n",
    "\n"
   ]
  },
  {
   "cell_type": "code",
   "execution_count": 2,
   "id": "6c2e2296-7ccd-4c70-9564-d720a166cd9b",
   "metadata": {},
   "outputs": [
    {
     "name": "stdout",
     "output_type": "stream",
     "text": [
      "\n",
      "Merging train and store dataframes...\n",
      "Data shape after filtering closed/zero-sale days: (844338, 18)\n"
     ]
    }
   ],
   "source": [
    "# Merging and Initial Cleaning\n",
    "print(\"\\nMerging train and store dataframes...\")\n",
    "df = pd.merge(train_df, store_df, on='Store', how='left')\n",
    "\n",
    "# Converting Date column to datetime objects\n",
    "df['Date'] = pd.to_datetime(df['Date'])\n",
    "\n",
    "# Filtering out closed stores and days with zero sales, as they are not predictable\n",
    "df = df[(df['Open'] == 1) & (df['Sales'] > 0)].copy()\n",
    "print(f\"Data shape after filtering closed/zero-sale days: {df.shape}\")\n",
    "\n"
   ]
  },
  {
   "cell_type": "code",
   "execution_count": 3,
   "id": "ec3cbcec-698b-4a10-8c5b-15edda75d8de",
   "metadata": {},
   "outputs": [
    {
     "name": "stdout",
     "output_type": "stream",
     "text": [
      "\n",
      "Handling missing values...\n",
      "Missing values handled.\n",
      "Remaining nulls:\n",
      "Store        0\n",
      "DayOfWeek    0\n",
      "Date         0\n",
      "Sales        0\n",
      "Customers    0\n",
      "dtype: int64\n"
     ]
    }
   ],
   "source": [
    "# Handling Missing Values\n",
    "print(\"\\nHandling missing values...\")\n",
    "\n",
    "# Strategy: Fill CompetitionDistance with the median value of the column (This was already correct)\n",
    "df['CompetitionDistance'] = df['CompetitionDistance'].fillna(df['CompetitionDistance'].median())\n",
    "\n",
    "# Strategy: For competition 'open since' and promo 'since' features, NaNs likely mean no competition/promo. Fill with 0.\n",
    "for col in ['CompetitionOpenSinceMonth', 'CompetitionOpenSinceYear', 'Promo2SinceWeek', 'Promo2SinceYear']:\n",
    "    df[col] = df[col].fillna(0)\n",
    "\n",
    "df['PromoInterval'] = df['PromoInterval'].fillna('None')\n",
    "\n",
    "print(\"Missing values handled.\")\n",
    "print(f\"Remaining nulls:\\n{df.isnull().sum().sort_values(ascending=False).head()}\")\n",
    "\n"
   ]
  },
  {
   "cell_type": "code",
   "execution_count": 4,
   "id": "5dc58519-dc26-473e-bfa8-97f8b45e5864",
   "metadata": {},
   "outputs": [
    {
     "name": "stdout",
     "output_type": "stream",
     "text": [
      "\n",
      "Engineering new features from existing data...\n",
      "Feature engineering complete.\n"
     ]
    }
   ],
   "source": [
    "# Feature Engineering\n",
    "print(\"\\nEngineering new features from existing data...\")\n",
    "\n",
    "# Time-based features\n",
    "df['Year'] = df['Date'].dt.year\n",
    "df['Month'] = df['Date'].dt.month\n",
    "df['Day'] = df['Date'].dt.day\n",
    "df['WeekOfYear'] = df['Date'].dt.isocalendar().week.astype(int)\n",
    "\n",
    "# Promotion-based feature ('IsPromoMonth')\n",
    "# This feature checks if a given sale date falls within a store's 'Promo2' interval\n",
    "month_map = {1: 'Jan', 2: 'Feb', 3: 'Mar', 4: 'Apr', 5: 'May', 6: 'Jun', \n",
    "             7: 'Jul', 8: 'Aug', 9: 'Sep', 10: 'Oct', 11: 'Nov', 12: 'Dec'}\n",
    "df['MonthStr'] = df['Month'].map(month_map)\n",
    "df['IsPromoMonth'] = df.apply(lambda row: 1 if row['Promo2'] == 1 and row['MonthStr'] in row['PromoInterval'] else 0, axis=1)\n",
    "\n",
    "# Clean up helper column\n",
    "df.drop(columns=['MonthStr'], inplace=True)\n",
    "\n",
    "print(\"Feature engineering complete.\")"
   ]
  },
  {
   "cell_type": "code",
   "execution_count": 5,
   "id": "78adeb07-8fac-48ea-ad90-f23c0f732840",
   "metadata": {},
   "outputs": [
    {
     "name": "stdout",
     "output_type": "stream",
     "text": [
      "\n",
      "Saving cleaned and featured data to: ../data/processed/df_featured.csv\n",
      "\n",
      "--- Notebook 1 Complete ---\n",
      "Final DataFrame Info:\n",
      "<class 'pandas.core.frame.DataFrame'>\n",
      "Index: 844338 entries, 0 to 1017190\n",
      "Data columns (total 23 columns):\n",
      " #   Column                     Non-Null Count   Dtype         \n",
      "---  ------                     --------------   -----         \n",
      " 0   Store                      844338 non-null  int64         \n",
      " 1   DayOfWeek                  844338 non-null  int64         \n",
      " 2   Date                       844338 non-null  datetime64[ns]\n",
      " 3   Sales                      844338 non-null  int64         \n",
      " 4   Customers                  844338 non-null  int64         \n",
      " 5   Open                       844338 non-null  int64         \n",
      " 6   Promo                      844338 non-null  int64         \n",
      " 7   StateHoliday               844338 non-null  object        \n",
      " 8   SchoolHoliday              844338 non-null  int64         \n",
      " 9   StoreType                  844338 non-null  object        \n",
      " 10  Assortment                 844338 non-null  object        \n",
      " 11  CompetitionDistance        844338 non-null  float64       \n",
      " 12  CompetitionOpenSinceMonth  844338 non-null  float64       \n",
      " 13  CompetitionOpenSinceYear   844338 non-null  float64       \n",
      " 14  Promo2                     844338 non-null  int64         \n",
      " 15  Promo2SinceWeek            844338 non-null  float64       \n",
      " 16  Promo2SinceYear            844338 non-null  float64       \n",
      " 17  PromoInterval              844338 non-null  object        \n",
      " 18  Year                       844338 non-null  int32         \n",
      " 19  Month                      844338 non-null  int32         \n",
      " 20  Day                        844338 non-null  int32         \n",
      " 21  WeekOfYear                 844338 non-null  int64         \n",
      " 22  IsPromoMonth               844338 non-null  int64         \n",
      "dtypes: datetime64[ns](1), float64(5), int32(3), int64(10), object(4)\n",
      "memory usage: 144.9+ MB\n"
     ]
    }
   ],
   "source": [
    "# Saving Processed Data\n",
    "PROCESSED_DATA_PATH = '../data/processed/df_featured.csv'\n",
    "\n",
    "# Create the 'processed' directory if it doesn't exist\n",
    "os.makedirs(os.path.dirname(PROCESSED_DATA_PATH), exist_ok=True)\n",
    "\n",
    "print(f\"\\nSaving cleaned and featured data to: {PROCESSED_DATA_PATH}\")\n",
    "df.to_csv(PROCESSED_DATA_PATH, index=False)\n",
    "\n",
    "print(\"\\n--- Notebook 1 Complete ---\")\n",
    "print(\"Final DataFrame Info:\")\n",
    "df.info()"
   ]
  }
 ],
 "metadata": {
  "kernelspec": {
   "display_name": "Python 3 (ipykernel)",
   "language": "python",
   "name": "python3"
  },
  "language_info": {
   "codemirror_mode": {
    "name": "ipython",
    "version": 3
   },
   "file_extension": ".py",
   "mimetype": "text/x-python",
   "name": "python",
   "nbconvert_exporter": "python",
   "pygments_lexer": "ipython3",
   "version": "3.10.18"
  }
 },
 "nbformat": 4,
 "nbformat_minor": 5
}
